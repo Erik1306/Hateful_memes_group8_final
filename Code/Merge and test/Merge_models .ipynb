{
  "nbformat": 4,
  "nbformat_minor": 0,
  "metadata": {
    "colab": {
      "name": "Merge_models.ipynb",
      "provenance": []
    },
    "kernelspec": {
      "name": "python3",
      "display_name": "Python 3"
    },
    "language_info": {
      "name": "python"
    }
  },
  "cells": [
    {
      "cell_type": "code",
      "metadata": {
        "id": "h31aJMWgG_vF"
      },
      "source": [
        "import pandas as pd\n",
        "import numpy as np\n",
        "import pickle\n",
        "import random"
      ],
      "execution_count": null,
      "outputs": []
    },
    {
      "cell_type": "code",
      "metadata": {
        "colab": {
          "base_uri": "https://localhost:8080/"
        },
        "id": "PUuIJY4-IMUd",
        "outputId": "b35ed6d0-a95c-454b-f848-2a3bfec1c2cc"
      },
      "source": [
        "from google.colab import drive\n",
        "drive.mount('/content/drive')"
      ],
      "execution_count": null,
      "outputs": [
        {
          "output_type": "stream",
          "text": [
            "Drive already mounted at /content/drive; to attempt to forcibly remount, call drive.mount(\"/content/drive\", force_remount=True).\n"
          ],
          "name": "stdout"
        }
      ]
    },
    {
      "cell_type": "code",
      "metadata": {
        "colab": {
          "base_uri": "https://localhost:8080/"
        },
        "id": "VekrrqrIHbfG",
        "outputId": "20ea1c95-0c51-4ce8-cc19-87420f6e16eb"
      },
      "source": [
        "train = pd.read_csv('/content/drive/MyDrive/hateful-memes/csv/train.csv')\n",
        "train2 = pd.read_csv('/content/drive/MyDrive/hateful-memes/csv/dev1.csv')\n",
        "test = pd.read_csv('/content/drive/MyDrive/hateful-memes/csv/test1.csv')\n",
        "train3 = pd.read_csv('/content/drive/MyDrive/hateful-memes/csv/dev2.csv')\n",
        "test2 = pd.read_csv('/content/drive/MyDrive/hateful-memes/csv/test2.csv')\n",
        "train2 = train3.append(train2).drop_duplicates('id',keep='first')\n",
        "train.shape,train2.shape,test2.shape"
      ],
      "execution_count": null,
      "outputs": [
        {
          "output_type": "execute_result",
          "data": {
            "text/plain": [
              "((8500, 8), (30, 8), (640, 8))"
            ]
          },
          "metadata": {
            "tags": []
          },
          "execution_count": 8
        }
      ]
    },
    {
      "cell_type": "code",
      "metadata": {
        "colab": {
          "base_uri": "https://localhost:8080/"
        },
        "id": "CFQ0uRSDH6Yd",
        "outputId": "d1cabc6f-28d4-4d1e-9d14-18a8304f16ed"
      },
      "source": [
        "same_id_dict = {}\n",
        "for line in open('/content/drive/MyDrive/hateful-memes/hate/hateful/model/same_id.csv','r'):\n",
        "    if line == '':\n",
        "        continue\n",
        "    array = line.strip().split(' ')\n",
        "    same_id_dict[int(array[1])] = int(array[0])\n",
        "\n",
        "for id,v in same_id_dict.items():\n",
        "    temp_id = id\n",
        "    while(True):\n",
        "        if same_id_dict.get(temp_id, -1) != -1:\n",
        "            temp_id = same_id_dict[temp_id]\n",
        "        else:\n",
        "            break\n",
        "    same_id_dict[id] = temp_id\n",
        "\n",
        "id_label = {}\n",
        "cache = train[['id','img','label','text']].values\n",
        "for i in range(cache.shape[0]):\n",
        "    id_label[cache[i,0]] = cache[i,2]\n",
        "\n",
        "\n",
        "id_label2 = {}\n",
        "cache = train2[['id','img','label','text']].values\n",
        "for i in range(cache.shape[0]):\n",
        "    id_label[cache[i,0]] = cache[i,2]\n",
        "\n",
        "ids_list = list(id_label.keys()) \n",
        "\n",
        "cache = test2[['id','img','label','text']].values\n",
        "for i in range(cache.shape[0]):\n",
        "    id_label2[cache[i,0]] = random.choice([0,1])\n",
        "ids_list2 = list(id_label2.keys()) \n",
        "\n",
        "userset = {}\n",
        "img_pairs = []\n",
        "text_pairs = []\n",
        "for line in open('/content/drive/MyDrive/hateful-memes/hate/hateful/model/img_pairs.csv','r'):\n",
        "    if line == '':\n",
        "        continue\n",
        "    array = line.strip().split(' ')\n",
        "    img_pairs.append([int(array[0]),int(array[1])])\n",
        "    if int(array[0]) not in test2.id.values or int(array[1]) not in test2.id.values:\n",
        "        continue\n",
        "    userset[int(array[0])] = userset.get(int(array[0]), {})\n",
        "    userset[int(array[0])][0] = userset[int(array[0])].get(0, 0) + 1\n",
        "    userset[int(array[1])] = userset.get(int(array[1]), {})\n",
        "    userset[int(array[1])][0] = userset[int(array[1])].get(0, 0) + 1\n",
        "    \n",
        "for line in open('/content/drive/MyDrive/hateful-memes/hate/hateful/model/text_pairs.csv','r'):\n",
        "    if line == '':\n",
        "        continue\n",
        "    array = line.strip().split(' ')\n",
        "    text_pairs.append([int(array[0]),int(array[1])])\n",
        "    if int(array[0]) not in test2.id.values or int(array[1]) not in test2.id.values:\n",
        "        continue\n",
        "    userset[int(array[0])] = userset.get(int(array[0]), {})\n",
        "    userset[int(array[0])][1] = userset[int(array[0])].get(1, 0) + 1\n",
        "    userset[int(array[1])] = userset.get(int(array[1]), {})\n",
        "    userset[int(array[1])][1] = userset[int(array[1])].get(1, 0) + 1\n",
        "\n",
        "    \n",
        "id_leak = {}\n",
        "for line in open('/content/drive/MyDrive/hateful-memes/hate/hateful/model/img_pairs.csv','r'):\n",
        "    if line == '':\n",
        "        continue\n",
        "    array = line.strip().split(' ')\n",
        "    if int(array[0]) not in test2.id.values or int(array[1]) not in test2.id.values:\n",
        "        continue\n",
        "    id = int(array[0])\n",
        "    id2 = int(array[1])\n",
        "    if userset[id].get(0,0) > 0 and userset[id].get(1,0) > 0:\n",
        "        pass\n",
        "    elif userset[id].get(0,0) > 0 or userset[id].get(1,0) > 0:\n",
        "        if userset[id2].get(0,0) > 0 and userset[id2].get(1,0) > 0:\n",
        "            id_leak[id] = 0\n",
        "    id = int(array[1])\n",
        "    id2 = int(array[0])\n",
        "    if userset[id].get(0,0) > 0 and userset[id].get(1,0) > 0:\n",
        "        pass\n",
        "    elif userset[id].get(0,0) > 0 or userset[id].get(1,0) > 0:\n",
        "        if userset[id2].get(0,0) > 0 and userset[id2].get(1,0) > 0:\n",
        "            id_leak[id] = 0\n",
        "    \n",
        "for line in open('/content/drive/MyDrive/hateful-memes/hate/hateful/model/text_pairs.csv','r'):\n",
        "    if line == '':\n",
        "        continue\n",
        "    array = line.strip().split(' ')\n",
        "    if int(array[0]) not in test2.id.values or int(array[1]) not in test2.id.values:\n",
        "        continue\n",
        "    id = int(array[0])\n",
        "    id2 = int(array[1])\n",
        "    if userset[id].get(0,0) > 0 and userset[id].get(1,0) > 0:\n",
        "        pass\n",
        "    elif userset[id].get(0,0) > 0 or userset[id].get(1,0) > 0:\n",
        "        if userset[id2].get(0,0) > 0 and userset[id2].get(1,0) > 0:\n",
        "            id_leak[id] = 0\n",
        "    id = int(array[1])\n",
        "    id2 = int(array[0])\n",
        "    if userset[id].get(0,0) > 0 and userset[id].get(1,0) > 0:\n",
        "        pass\n",
        "    elif userset[id].get(0,0) > 0 or userset[id].get(1,0) > 0:\n",
        "        if userset[id2].get(0,0) > 0 and userset[id2].get(1,0) > 0:\n",
        "            id_leak[id] = 0    \n",
        "ids_list3 = [x for x in ids_list2]\n",
        "print(len(img_pairs),len(text_pairs),len(ids_list3))"
      ],
      "execution_count": null,
      "outputs": [
        {
          "output_type": "stream",
          "text": [
            "2711 3707 640\n"
          ],
          "name": "stdout"
        }
      ]
    },
    {
      "cell_type": "code",
      "metadata": {
        "colab": {
          "base_uri": "https://localhost:8080/"
        },
        "id": "092wHeL0IB0f",
        "outputId": "2a8942fe-775d-4471-acd6-ed24ea74b760"
      },
      "source": [
        "id_pair = []\n",
        "for pairs in [text_pairs,img_pairs]:\n",
        "    cluster = {}\n",
        "    id2cluster = {}\n",
        "    cluster2id = {}\n",
        "    clusterid = 0 \n",
        "    count1 = 0\n",
        "    count2 = 0\n",
        "    for line in pairs:\n",
        "        id0 = line[0]\n",
        "        id1 = line[1]\n",
        "        if id_label.get(id0,-1) == -1 and id0 not in test2.id.values:\n",
        "            continue\n",
        "        if id_label.get(id1,-1) == -1 and id1 not in test2.id.values:\n",
        "            continue\n",
        "        if id0 in test2.id.values or id1 in test2.id.values:\n",
        "            if same_id_dict.get(id0,id0) != same_id_dict.get(id1,id1):\n",
        "                id_pair.append(line)\n",
        "    \n",
        "len(id_pair)"
      ],
      "execution_count": null,
      "outputs": [
        {
          "output_type": "execute_result",
          "data": {
            "text/plain": [
              "522"
            ]
          },
          "metadata": {
            "tags": []
          },
          "execution_count": 10
        }
      ]
    },
    {
      "cell_type": "code",
      "metadata": {
        "id": "oCxoOQ8eIYsN"
      },
      "source": [
        "id_pred3_all = []\n",
        "count = 0\n",
        "\n",
        "for file in ['/content/drive/MyDrive/hateful-memes/weight/submission_1.pkl','/content/drive/MyDrive/hateful-memes/weight/submission_2.pkl','/content/drive/MyDrive/hateful-memes/weight/submission_3.pkl']:\n",
        "    f = open(file, 'rb')\n",
        "    id_pred_2,id_pred2_2,id_mmf = pickle.loads(f.read())\n",
        "    f.close()\n",
        "    id_pred3 = {}\n",
        "    for id in ids_list3:\n",
        "        if id_pred2_2.get(id,-1) != -1:\n",
        "            id_pred3[id] =  (id_pred_2[id] * 0.3 + np.mean(id_pred2_2[id]) * 0.3 + id_mmf[id] * 0.4)\n",
        "        else:\n",
        "            id_pred3[id] =  id_pred_2[id] * 0.6 + id_mmf[id] * 0.4\n",
        "\n",
        "\n",
        "\n",
        "\n",
        "    for id in id_pair:\n",
        "        a0 = 0.7\n",
        "        a1 = 0.7\n",
        "        if id[0] in test2.id.values and id[1] in test2.id.values:\n",
        "            \n",
        "            b = abs(np.mean(id_pred2_2[id[0]]) - np.mean(id_pred2_2[id[1]])) / 0.4\n",
        "            b = max(1.0,min(2.0,b))\n",
        "            a0 = a0/b\n",
        "            a1 = a1/b\n",
        "            \n",
        "            if np.mean(id_pred2_2[id[0]]) > np.mean(id_pred2_2[id[1]]):\n",
        "                id_pred3[id[0]] = id_pred3[id[0]] * a0 + 1.0 * (1 - a0)\n",
        "                id_pred3[id[1]] = id_pred3[id[1]] * a1 + 0.0 * (1 - a1)\n",
        "            else:\n",
        "                id_pred3[id[0]] = id_pred3[id[0]] * a0 + 0.0 * (1 - a0)\n",
        "                id_pred3[id[1]] = id_pred3[id[1]] * a1 + 1.0 * (1 - a1)\n",
        "            \n",
        "        elif id_label.get(id[0],-1) != -1 and id_rule.get(id[1],-1) == -1 and id_rule_test1.get(same_id_dict.get(id[1],id[1]),-1) == -1:\n",
        "            a0 = 0.85\n",
        "            a1 = 0.85\n",
        "            if id_label[id[0]] > np.mean(id_pred2_2[id[1]]):\n",
        "                id_pred3[id[1]] = id_pred3[id[1]] * a1 + 0.0 * (1 - a1)\n",
        "            else:\n",
        "                id_pred3[id[1]] = id_pred3[id[1]] * a1 + 1.0 * (1 - a1)\n",
        " \n",
        "    \n",
        "    for id in id_pair:\n",
        "        a0 = 0.3\n",
        "        a1 = 0.3\n",
        "        if id[0] in test2.id.values and id[1] in test2.id.values:\n",
        "            \n",
        "            if id_mmf[id[0]] > id_mmf[id[1]]:\n",
        "                if 1 - id_pred3[id[0]] > id_pred3[id[1]]:\n",
        "                    id_pred3[id[0]] = np.clip(id_pred3[id[0]] + a0,0,1)\n",
        "                else:\n",
        "                    id_pred3[id[1]] = np.clip(id_pred3[id[1]] - a1,0,1)\n",
        "\n",
        "            else:\n",
        "                if 1 - id_pred3[id[1]] > id_pred3[id[0]]:\n",
        "                    id_pred3[id[1]] = np.clip(id_pred3[id[1]] + a0,0,1)\n",
        "                else:\n",
        "                    id_pred3[id[0]] = np.clip(id_pred3[id[0]] - a1,0,1)\n",
        "\n",
        "    for id in id_pair:\n",
        "        a0 = 0.6\n",
        "        a1 = 0.6\n",
        "        if id[0] in test2.id.values and id[1] in test2.id.values:\n",
        "            \n",
        "            meanscore = (id_pred3[id[0]] + id_pred3[id[1]]) * 0.5\n",
        "            id_pred3[id[0]] = id_pred3[id[0]] - (meanscore - 0.5) * a0\n",
        "            id_pred3[id[1]] = id_pred3[id[1]] - (meanscore - 0.5) * a1\n",
        "\n",
        "\n",
        "    for id in test2.id.values:\n",
        "        if userset.get(id,-1) != -1:\n",
        "            if userset[id].get(0,0) > 0 and userset[id].get(1,0) > 0:\n",
        "                id_pred3[id] =  1 * 0.5 + id_pred3[id] * 0.5\n",
        "        if id_leak.get(id,-1) != -1:\n",
        "            id_pred3[id] =  0 * 0.4 + id_pred3[id] * 0.6\n",
        "            \n",
        "    id_pred3_all.append(id_pred3)\n",
        "    \n",
        "f = open('/content/drive/MyDrive/hateful-memes/csv/merge_final4.csv','w')\n",
        "print(\"id,proba,label\",file = f )        \n",
        "for id in test2.id.values:\n",
        "    id_pred3[id] = np.mean([x[id] for x in id_pred3_all])\n",
        "    print(\",\".join([str(id),str(round(id_pred3[id],4)),str(1 if id_pred3[id] > 0.5 else 0)]),file = f )\n",
        "f.close()"
      ],
      "execution_count": null,
      "outputs": []
    }
  ]
}